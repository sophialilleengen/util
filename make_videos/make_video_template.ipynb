{
 "cells": [
  {
   "cell_type": "code",
   "execution_count": 1,
   "metadata": {},
   "outputs": [],
   "source": [
    "## install imageio with eg pip install imageio\n",
    "\n",
    "import imageio # documentation: https://imageio.readthedocs.io/en/stable/\n",
    "\n",
    "import glob\n",
    "import re"
   ]
  },
  {
   "cell_type": "code",
   "execution_count": 2,
   "metadata": {},
   "outputs": [],
   "source": [
    "### this function sorts your input files numerically (0,1,,...9,10,11...99, 100,...)\n",
    "def sorted_nicely( l ):\n",
    "    \"\"\"Sorts the given iterable in the way that is expected.\n",
    "        Required arguments:\n",
    "        l -- The iterable to be sorted\n",
    "    \"\"\"\n",
    "\n",
    "    convert = lambda text: int(text) if text.isdigit() else text\n",
    "    alphanum_key = lambda key: [convert(c) for c in re.split('([0-9]+)', key)]\n",
    "    return sorted(l, key = alphanum_key)"
   ]
  },
  {
   "cell_type": "code",
   "execution_count": null,
   "metadata": {},
   "outputs": [],
   "source": [
    "### prepare file list and load images\n",
    "\n",
    "dirname = './' # directory where your images are saved in\n",
    "    \n",
    "# read in files\n",
    "files = [f for f in glob.glob(dirname + '**.png', recursive=True)] # images saved as png\n",
    "files = sorted_nicely(files)\n",
    "\n",
    "images = []\n",
    "\n",
    "for filename in files:\n",
    "    #print(filename)\n",
    "    images.append(imageio.imread(filename)) # load images with imageio"
   ]
  },
  {
   "cell_type": "code",
   "execution_count": null,
   "metadata": {},
   "outputs": [],
   "source": [
    "### make video / gif\n",
    "\n",
    "# frames per second\n",
    "fps = 5 \n",
    "\n",
    "# documentation for imageio.mimwrite(): https://imageio.readthedocs.io/en/stable/userapi.html?highlight=mimwrite#imageio.mimwrite\n",
    "\n",
    "# make gif\n",
    "imageio.mimwrite('gif.gif', images ,format='GIF-FI', fps = fps)\n",
    "\n",
    "# make video\n",
    "imageio.mimwrite('video.mp4', images , fps = fps)"
   ]
  }
 ],
 "metadata": {
  "kernelspec": {
   "display_name": "Python 3",
   "language": "python",
   "name": "python3"
  },
  "language_info": {
   "codemirror_mode": {
    "name": "ipython",
    "version": 3
   },
   "file_extension": ".py",
   "mimetype": "text/x-python",
   "name": "python",
   "nbconvert_exporter": "python",
   "pygments_lexer": "ipython3",
   "version": "3.6.9"
  }
 },
 "nbformat": 4,
 "nbformat_minor": 4
}
